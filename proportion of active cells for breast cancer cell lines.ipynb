{
 "cells": [
  {
   "cell_type": "code",
   "execution_count": 7,
   "id": "aff6c15b",
   "metadata": {},
   "outputs": [],
   "source": [
    "import numpy as np\n",
    "import pandas as pd\n",
    "import matplotlib.pyplot as plt\n",
    "import seaborn as sns\n",
    "#from pycatch22 import catch22_all\n",
    "import scipy.ndimage as ndimage\n",
    "from sklearn.preprocessing import StandardScaler\n",
    "from sklearn.preprocessing import MinMaxScaler\n",
    "from sklearn.cluster import KMeans\n",
    "from sklearn.decomposition import PCA\n",
    "import palettable\n",
    "from pathlib import Path"
   ]
  },
  {
   "cell_type": "code",
   "execution_count": 8,
   "id": "f824144b",
   "metadata": {},
   "outputs": [
    {
     "name": "stdout",
     "output_type": "stream",
     "text": [
      "['231_none', '453_none', '468_none', 'BT474_none', 'Cal51_none', 'Hs578t_none', 'MCF10A_TGFB_none', 'MCF10A_none', 'SUM159_none', 'T47D_none', 'chtx_post', 'chtx_pre', 'chtx_washout', 'dmso_post', 'dmso_pre', 'wm_none']\n",
      "MCF10A_none\n",
      "MCF10A_TGFB_none\n",
      "T47D_none\n",
      "BT474_none\n",
      "453_none\n",
      "468_none\n",
      "Cal51_none\n",
      "SUM159_none\n",
      "231_none\n",
      "Hs578t_none\n"
     ]
    },
    {
     "data": {
      "text/html": [
       "<div>\n",
       "<style scoped>\n",
       "    .dataframe tbody tr th:only-of-type {\n",
       "        vertical-align: middle;\n",
       "    }\n",
       "\n",
       "    .dataframe tbody tr th {\n",
       "        vertical-align: top;\n",
       "    }\n",
       "\n",
       "    .dataframe thead th {\n",
       "        text-align: right;\n",
       "    }\n",
       "</style>\n",
       "<table border=\"1\" class=\"dataframe\">\n",
       "  <thead>\n",
       "    <tr style=\"text-align: right;\">\n",
       "      <th></th>\n",
       "      <th>0</th>\n",
       "    </tr>\n",
       "  </thead>\n",
       "  <tbody>\n",
       "    <tr>\n",
       "      <th>0</th>\n",
       "      <td>0.004896</td>\n",
       "    </tr>\n",
       "    <tr>\n",
       "      <th>1</th>\n",
       "      <td>0.007941</td>\n",
       "    </tr>\n",
       "    <tr>\n",
       "      <th>2</th>\n",
       "      <td>0.071265</td>\n",
       "    </tr>\n",
       "    <tr>\n",
       "      <th>3</th>\n",
       "      <td>0.174260</td>\n",
       "    </tr>\n",
       "    <tr>\n",
       "      <th>4</th>\n",
       "      <td>0.383178</td>\n",
       "    </tr>\n",
       "    <tr>\n",
       "      <th>5</th>\n",
       "      <td>0.206250</td>\n",
       "    </tr>\n",
       "    <tr>\n",
       "      <th>6</th>\n",
       "      <td>0.011725</td>\n",
       "    </tr>\n",
       "    <tr>\n",
       "      <th>7</th>\n",
       "      <td>0.012397</td>\n",
       "    </tr>\n",
       "    <tr>\n",
       "      <th>8</th>\n",
       "      <td>0.066751</td>\n",
       "    </tr>\n",
       "    <tr>\n",
       "      <th>9</th>\n",
       "      <td>0.021207</td>\n",
       "    </tr>\n",
       "  </tbody>\n",
       "</table>\n",
       "</div>"
      ],
      "text/plain": [
       "          0\n",
       "0  0.004896\n",
       "1  0.007941\n",
       "2  0.071265\n",
       "3  0.174260\n",
       "4  0.383178\n",
       "5  0.206250\n",
       "6  0.011725\n",
       "7  0.012397\n",
       "8  0.066751\n",
       "9  0.021207"
      ]
     },
     "execution_count": 8,
     "metadata": {},
     "output_type": "execute_result"
    }
   ],
   "source": [
    "home = Path('R:/home')\n",
    "home = Path.home()\n",
    "date = '20220617'\n",
    "if 'ys5320' in str(home):\n",
    "    top_dir = Path(Path.home(), \"firefly_link/cancer\")\n",
    "\n",
    "else:\n",
    "    top_dir = Path('R:/home/firefly_link/cancer')\n",
    "\n",
    "save_dir = Path(top_dir, \"analysis\", \"full\")\n",
    "#initial_df = pd.read_csv(Path(top_dir, 'analysis', 'correct_dataframes', f'long_acqs_{date}_HPC_labelled_complete.csv'))\n",
    "\n",
    "\n",
    "df = pd.read_csv(\n",
    "    Path(\n",
    "        save_dir,\n",
    "        \"20220423_original_and_review_intermediate_files/20220423_original_and_review_non_ttx_active_df_by_cell.csv\",\n",
    "    )\n",
    ")\n",
    "\n",
    "df2 = pd.read_csv(\n",
    "    Path(\n",
    "        save_dir,\n",
    "        \"20220423_original_and_review_intermediate_files/20220423_original_and_review_TTX_active_df_by_cell.csv\",\n",
    "    )\n",
    ")\n",
    "df2 = df2[df2.stage == \"pre\"]\n",
    "\n",
    "df3 = pd.read_csv(\n",
    "    Path(\n",
    "        save_dir,\n",
    "        \"long_acqs_20220420_HPC_labelled_complete_intermediate_files/long_acqs_20220420_HPC_labelled_complete_non_ttx_active_df_by_cell.csv\",\n",
    "    )\n",
    ")\n",
    "\n",
    "df4 = pd.read_csv(\n",
    "    Path(\n",
    "        save_dir,\n",
    "        \"long_acqs_20220808_HPC_labelled_complete_intermediate_files/long_acqs_20220808_HPC_labelled_complete_non_ttx_active_df_by_cell.csv\",\n",
    "    )\n",
    ")\n",
    "\n",
    "df = pd.concat([df, df2, df3, df4])\n",
    "df.expt = [x[1:] if x[0] == 'L' else x for x in df.expt]\n",
    "'''\n",
    "df = pd.read_csv(\n",
    "    Path(\n",
    "        save_dir,\n",
    "        f\"long_acqs_{date}_HPC_labelled_complete_intermediate_files/long_acqs_{date}_HPC_labelled_complete_non_ttx_active_df_by_cell.csv\",\n",
    "    )\n",
    ")\n",
    "'''\n",
    "\n",
    "df[\"exp_stage\"] = df.expt + \"_\" + df.stage\n",
    "#print(df.exp_stage.unique())\n",
    "MDA_keys = [\n",
    "    \"standard_none\",\n",
    "    \"TTX_10um_pre\",\n",
    "    \"TTX_10um_washout_pre\",\n",
    "    \"TTX_1um_pre\",\n",
    "    \"231_none\"\n",
    "]\n",
    "TGFB_keys = [\n",
    "    'MCF10A_TGFB_none',\n",
    "    'MCF10A_TGFB_0314_none',\n",
    "    'MCF10A_TGFB_0304_none'\n",
    "]\n",
    "\n",
    "#df.exp_stage = [x if x not in MDA_keys else \"231_none\" for x in df.exp_stage]\n",
    "df.exp_stage = [x if x not in MDA_keys and x not in TGFB_keys else \"231_none\" if x in MDA_keys else 'MCF10A_TGFB_none' for x in df.exp_stage]\n",
    "\n",
    "lines = list(np.unique(df.exp_stage))\n",
    "print(lines)\n",
    "event_df = df[(df.integrated_events != 0)]\n",
    "#lines = [x[:-5] for x in lines]\n",
    "per = []\n",
    "li = ['MCF10A_none','MCF10A_TGFB_none','T47D_none','BT474_none','453_none','468_none','Cal51_none','SUM159_none','231_none','Hs578t_none']\n",
    "\n",
    "trial_save = Path(save_dir, 'ratio_stacks')\n",
    "for l in li:\n",
    "    print(l)\n",
    "    l_df = event_df[event_df.exp_stage == l]\n",
    "    all_df = df[df.exp_stage == l]\n",
    "    per.append(l_df.shape[0]/all_df.shape[0])\n",
    "    #li.append(l[:-5])\n",
    "per = pd.DataFrame(per)\n",
    "per"
   ]
  },
  {
   "cell_type": "code",
   "execution_count": 9,
   "id": "26c813db",
   "metadata": {},
   "outputs": [
    {
     "data": {
      "text/plain": [
       "Text(0.5, 1.0, 'Percentage of all active cells')"
      ]
     },
     "execution_count": 9,
     "metadata": {},
     "output_type": "execute_result"
    },
    {
     "data": {
      "text/plain": [
       "<Figure size 1800x1200 with 0 Axes>"
      ]
     },
     "metadata": {},
     "output_type": "display_data"
    },
    {
     "data": {
      "image/png": "[encoded data removed]",
      "text/plain": [
       "<Figure size 432x288 with 1 Axes>"
      ]
     },
     "metadata": {
      "needs_background": "light"
     },
     "output_type": "display_data"
    }
   ],
   "source": [
    "per.index = ['MCF-10A','MCF-10A+TGF-\\u03B2','T-47D','BT-474','MDA-MB-453','MDA-MB-468','Cal-51','SUM159','MDA-MB-231','Hs578T']\n",
    "per.columns = ['Active cells %']\n",
    "per\n",
    "\n",
    "import seaborn as sns\n",
    "plt.figure(dpi = 300)\n",
    "per.plot(kind = 'bar')\n",
    "sns.despine()\n",
    "plt.legend('',frameon=False)\n",
    "plt.title('Percentage of all active cells', fontsize = 14)"
   ]
  },
  {
   "cell_type": "code",
   "execution_count": 12,
   "id": "bfb9c520",
   "metadata": {},
   "outputs": [],
   "source": [
    "figsave = Path(r'C:\\Users\\Firefly\\Desktop\\breast_cancer_figure')\n",
    "#per.to_csv(Path(figsave, 'active_cells_%.csv'))"
   ]
  },
  {
   "cell_type": "code",
   "execution_count": 6,
   "id": "171c3c64",
   "metadata": {},
   "outputs": [
    {
     "name": "stdout",
     "output_type": "stream",
     "text": [
      "MCF10A_none\n",
      "MCF10A_TGFB_none\n",
      "T47D_none\n",
      "BT474_none\n",
      "453_none\n",
      "468_none\n",
      "Cal51_none\n",
      "SUM159_none\n",
      "231_none\n",
      "Hs578t_none\n"
     ]
    },
    {
     "data": {
      "text/plain": [
       "Text(0.5, 1.0, 'Percentage of negatively active cells')"
      ]
     },
     "execution_count": 6,
     "metadata": {},
     "output_type": "execute_result"
    },
    {
     "data": {
      "text/plain": [
       "<Figure size 1800x1200 with 0 Axes>"
      ]
     },
     "metadata": {},
     "output_type": "display_data"
    },
    {
     "data": {
      "image/png": "[encoded data removed]",
      "text/plain": [
       "<Figure size 432x288 with 1 Axes>"
      ]
     },
     "metadata": {
      "needs_background": "light"
     },
     "output_type": "display_data"
    }
   ],
   "source": [
    "event_df = df[(df.neg_integrated_events != 0) & (df.n_pos_events == 0)]\n",
    "#lines = [x[:-5] for x in lines]\n",
    "per = []\n",
    "li = ['MCF10A_none','MCF10A_TGFB_none','T47D_none','BT474_none','453_none','468_none','Cal51_none','SUM159_none','231_none','Hs578t_none']\n",
    "\n",
    "trial_save = Path(save_dir, 'ratio_stacks')\n",
    "for l in li:\n",
    "    print(l)\n",
    "    l_df = event_df[event_df.exp_stage == l]\n",
    "    all_df = df[df.exp_stage == l]\n",
    "    per.append(l_df.shape[0]/all_df.shape[0])\n",
    "    #li.append(l[:-5])\n",
    "per = pd.DataFrame(per)\n",
    "per\n",
    "per.index = ['MCF-10A','MCF-10A+TGF-\\u03B2','T-47D','BT-474','MDA-MB-453','MDA-MB-468','Cal-51','SUM159','MDA-MB-231','Hs578T']\n",
    "per.columns = ['Active cells %']\n",
    "per\n",
    "\n",
    "import seaborn as sns\n",
    "plt.figure(dpi = 300)\n",
    "per.plot(kind = 'bar')\n",
    "sns.despine()\n",
    "plt.legend('',frameon=False)\n",
    "plt.title('Percentage of negatively active cells', fontsize = 14)"
   ]
  },
  {
   "cell_type": "code",
   "execution_count": 43,
   "id": "bb1db411",
   "metadata": {},
   "outputs": [
    {
     "name": "stdout",
     "output_type": "stream",
     "text": [
      "MCF10A_none\n",
      "T47D_none\n",
      "BT474_none\n",
      "453_none\n",
      "468_none\n",
      "Cal51_none\n",
      "SUM159_none\n",
      "231_none\n",
      "Hs578t_none\n",
      "wm_none\n"
     ]
    },
    {
     "data": {
      "text/plain": [
       "Text(0.5, 1.0, 'Percentage of positively active cells')"
      ]
     },
     "execution_count": 43,
     "metadata": {},
     "output_type": "execute_result"
    },
    {
     "data": {
      "text/plain": [
       "<Figure size 1800x1200 with 0 Axes>"
      ]
     },
     "metadata": {},
     "output_type": "display_data"
    },
    {
     "data": {
      "image/png": "[encoded data removed]",
      "text/plain": [
       "<Figure size 432x288 with 1 Axes>"
      ]
     },
     "metadata": {
      "needs_background": "light"
     },
     "output_type": "display_data"
    }
   ],
   "source": [
    "event_df = df[(df.n_pos_events != 0) & (df.n_neg_events == 0)]\n",
    "#lines = [x[:-5] for x in lines]\n",
    "per = []\n",
    "li = ['MCF10A_none','T47D_none','BT474_none','453_none','468_none','Cal51_none','SUM159_none','231_none','Hs578t_none','wm_none']\n",
    "\n",
    "trial_save = Path(save_dir, 'ratio_stacks')\n",
    "for l in li:\n",
    "    print(l)\n",
    "    l_df = event_df[event_df.exp_stage == l]\n",
    "    all_df = df[df.exp_stage == l]\n",
    "    per.append(l_df.shape[0]/all_df.shape[0])\n",
    "    #li.append(l[:-5])\n",
    "per = pd.DataFrame(per)\n",
    "per\n",
    "per.index = [x[:-5] for x in li]\n",
    "per.columns = ['Active cells %']\n",
    "per\n",
    "\n",
    "import seaborn as sns\n",
    "plt.figure(dpi = 300)\n",
    "per.plot(kind = 'bar')\n",
    "sns.despine()\n",
    "plt.legend('',frameon=False)\n",
    "plt.title('Percentage of positively active cells', fontsize = 14)"
   ]
  },
  {
   "cell_type": "code",
   "execution_count": 45,
   "id": "935c2e48",
   "metadata": {},
   "outputs": [
    {
     "name": "stdout",
     "output_type": "stream",
     "text": [
      "MCF10A_none\n",
      "T47D_none\n",
      "BT474_none\n",
      "453_none\n",
      "468_none\n",
      "Cal51_none\n",
      "SUM159_none\n",
      "231_none\n",
      "Hs578t_none\n",
      "wm_none\n"
     ]
    },
    {
     "data": {
      "text/plain": [
       "Text(0.5, 1.0, 'Percentage of positively active cells')"
      ]
     },
     "execution_count": 45,
     "metadata": {},
     "output_type": "execute_result"
    },
    {
     "data": {
      "text/plain": [
       "<Figure size 1800x1200 with 0 Axes>"
      ]
     },
     "metadata": {},
     "output_type": "display_data"
    },
    {
     "data": {
      "image/png": "[encoded data removed]",
      "text/plain": [
       "<Figure size 432x288 with 1 Axes>"
      ]
     },
     "metadata": {
      "needs_background": "light"
     },
     "output_type": "display_data"
    }
   ],
   "source": [
    "event_df = df[(df.n_pos_events != 0) & (df.n_neg_events != 0)]\n",
    "#lines = [x[:-5] for x in lines]\n",
    "per = []\n",
    "li = ['MCF10A_none','T47D_none','BT474_none','453_none','468_none','Cal51_none','SUM159_none','231_none','Hs578t_none','wm_none']\n",
    "\n",
    "trial_save = Path(save_dir, 'ratio_stacks')\n",
    "for l in li:\n",
    "    print(l)\n",
    "    l_df = event_df[event_df.exp_stage == l]\n",
    "    all_df = df[df.exp_stage == l]\n",
    "    per.append(l_df.shape[0]/all_df.shape[0])\n",
    "    #li.append(l[:-5])\n",
    "per = pd.DataFrame(per)\n",
    "per\n",
    "per.index = [x[:-5] for x in li]\n",
    "per.columns = ['Active cells %']\n",
    "per\n",
    "\n",
    "import seaborn as sns\n",
    "plt.figure(dpi = 300)\n",
    "per.plot(kind = 'bar')\n",
    "sns.despine()\n",
    "plt.legend('',frameon=False)\n",
    "plt.title('Percentage of positively active cells', fontsize = 14)"
   ]
  },
  {
   "cell_type": "code",
   "execution_count": null,
   "id": "fa7f7290",
   "metadata": {},
   "outputs": [],
   "source": []
  }
 ],
 "metadata": {
  "kernelspec": {
   "display_name": "Python 3 (ipykernel)",
   "language": "python",
   "name": "python3"
  },
  "language_info": {
   "codemirror_mode": {
    "name": "ipython",
    "version": 3
   },
   "file_extension": ".py",
   "mimetype": "text/x-python",
   "name": "python",
   "nbconvert_exporter": "python",
   "pygments_lexer": "ipython3",
   "version": "3.7.0"
  }
 },
 "nbformat": 4,
 "nbformat_minor": 5
}
